{
  "nbformat": 4,
  "nbformat_minor": 0,
  "metadata": {
    "colab": {
      "name": "Computational_Intelligence_Hw1.ipynb",
      "provenance": [],
      "collapsed_sections": [],
      "authorship_tag": "ABX9TyM9YpHzZSPq328+ny+ehgPi",
      "include_colab_link": true
    },
    "kernelspec": {
      "name": "python3",
      "display_name": "Python 3"
    },
    "language_info": {
      "name": "python"
    }
  },
  "cells": [
    {
      "cell_type": "markdown",
      "metadata": {
        "id": "view-in-github",
        "colab_type": "text"
      },
      "source": [
        "<a href=\"https://colab.research.google.com/github/KiarashVaziri/Computational-Intelligence/blob/main/Computational_Intelligence_Hw1.ipynb\" target=\"_parent\"><img src=\"https://colab.research.google.com/assets/colab-badge.svg\" alt=\"Open In Colab\"/></a>"
      ]
    },
    {
      "cell_type": "markdown",
      "source": [
        "#Computational Intelligence <br />\n",
        "##Computer Homework 1 <br/>\n",
        "*Name: Kiarash Vaziri* <br/>\n",
        "*Student Number: 98102562* <br/>\n"
      ],
      "metadata": {
        "id": "bjrEVnmraz9a"
      }
    },
    {
      "cell_type": "markdown",
      "source": [
        "# Problem 1"
      ],
      "metadata": {
        "id": "oUWhSzHkbE02"
      }
    },
    {
      "cell_type": "code",
      "execution_count": null,
      "metadata": {
        "id": "kabSNEmvanq6"
      },
      "outputs": [],
      "source": [
        ""
      ]
    }
  ]
}